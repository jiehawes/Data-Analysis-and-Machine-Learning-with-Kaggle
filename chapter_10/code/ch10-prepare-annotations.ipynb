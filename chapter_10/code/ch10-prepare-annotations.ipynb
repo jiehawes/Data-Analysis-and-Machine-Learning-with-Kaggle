{
 "cells": [
  {
   "cell_type": "markdown",
   "id": "90ea0fa5",
   "metadata": {
    "papermill": {
     "duration": 0.011727,
     "end_time": "2021-11-01T09:30:50.263322",
     "exception": false,
     "start_time": "2021-11-01T09:30:50.251595",
     "status": "completed"
    },
    "tags": []
   },
   "source": [
    "Taken from https://www.kaggle.com/slawekbiel/positive-score-with-detectron-1-3-input-data/notebook - please upvote!"
   ]
  },
  {
   "cell_type": "code",
   "execution_count": 1,
   "id": "a645f66e",
   "metadata": {
    "_cell_guid": "b1076dfc-b9ad-4769-8c92-a6c4dae69d19",
    "_kg_hide-input": true,
    "_kg_hide-output": true,
    "_uuid": "8f2839f25d086af736a60e9eeb907d3b93b6e0e5",
    "execution": {
     "iopub.execute_input": "2021-11-01T09:30:50.297949Z",
     "iopub.status.busy": "2021-11-01T09:30:50.296989Z",
     "iopub.status.idle": "2021-11-01T09:31:08.682955Z",
     "shell.execute_reply": "2021-11-01T09:31:08.681797Z",
     "shell.execute_reply.started": "2021-11-01T09:17:01.706029Z"
    },
    "papermill": {
     "duration": 18.407349,
     "end_time": "2021-11-01T09:31:08.683188",
     "exception": false,
     "start_time": "2021-11-01T09:30:50.275839",
     "status": "completed"
    },
    "tags": []
   },
   "outputs": [
    {
     "name": "stdout",
     "output_type": "stream",
     "text": [
      "Collecting pycocotools\r\n",
      "  Downloading pycocotools-2.0.2.tar.gz (23 kB)\r\n",
      "Requirement already satisfied: setuptools>=18.0 in /opt/conda/lib/python3.7/site-packages (from pycocotools) (58.0.4)\r\n",
      "Requirement already satisfied: cython>=0.27.3 in /opt/conda/lib/python3.7/site-packages (from pycocotools) (0.29.24)\r\n",
      "Requirement already satisfied: matplotlib>=2.1.0 in /opt/conda/lib/python3.7/site-packages (from pycocotools) (3.4.3)\r\n",
      "Requirement already satisfied: cycler>=0.10 in /opt/conda/lib/python3.7/site-packages (from matplotlib>=2.1.0->pycocotools) (0.10.0)\r\n",
      "Requirement already satisfied: python-dateutil>=2.7 in /opt/conda/lib/python3.7/site-packages (from matplotlib>=2.1.0->pycocotools) (2.8.0)\r\n",
      "Requirement already satisfied: pillow>=6.2.0 in /opt/conda/lib/python3.7/site-packages (from matplotlib>=2.1.0->pycocotools) (8.2.0)\r\n",
      "Requirement already satisfied: numpy>=1.16 in /opt/conda/lib/python3.7/site-packages (from matplotlib>=2.1.0->pycocotools) (1.19.5)\r\n",
      "Requirement already satisfied: pyparsing>=2.2.1 in /opt/conda/lib/python3.7/site-packages (from matplotlib>=2.1.0->pycocotools) (2.4.7)\r\n",
      "Requirement already satisfied: kiwisolver>=1.0.1 in /opt/conda/lib/python3.7/site-packages (from matplotlib>=2.1.0->pycocotools) (1.3.2)\r\n",
      "Requirement already satisfied: six in /opt/conda/lib/python3.7/site-packages (from cycler>=0.10->matplotlib>=2.1.0->pycocotools) (1.16.0)\r\n",
      "Building wheels for collected packages: pycocotools\r\n",
      "  Building wheel for pycocotools (setup.py) ... \u001b[?25l-\b \b\\\b \b|\b \b/\b \b-\b \b\\\b \b|\b \b/\b \bdone\r\n",
      "\u001b[?25h  Created wheel for pycocotools: filename=pycocotools-2.0.2-cp37-cp37m-linux_x86_64.whl size=272257 sha256=c70f557add7830ea2d298863b0e672ce90c34f325dc45e926fa01f61b3b4e1c6\r\n",
      "  Stored in directory: /root/.cache/pip/wheels/bc/cf/1b/e95c99c5f9d1648be3f500ca55e7ce55f24818b0f48336adaf\r\n",
      "Successfully built pycocotools\r\n",
      "Installing collected packages: pycocotools\r\n",
      "Successfully installed pycocotools-2.0.2\r\n",
      "\u001b[33mWARNING: Running pip as the 'root' user can result in broken permissions and conflicting behaviour with the system package manager. It is recommended to use a virtual environment instead: https://pip.pypa.io/warnings/venv\u001b[0m\r\n"
     ]
    }
   ],
   "source": [
    "!pip install pycocotools"
   ]
  },
  {
   "cell_type": "code",
   "execution_count": 2,
   "id": "80e5dbfe",
   "metadata": {
    "execution": {
     "iopub.execute_input": "2021-11-01T09:31:08.722518Z",
     "iopub.status.busy": "2021-11-01T09:31:08.721859Z",
     "iopub.status.idle": "2021-11-01T09:31:10.153218Z",
     "shell.execute_reply": "2021-11-01T09:31:10.152429Z",
     "shell.execute_reply.started": "2021-11-01T09:17:21.938023Z"
    },
    "papermill": {
     "duration": 1.452407,
     "end_time": "2021-11-01T09:31:10.153365",
     "exception": false,
     "start_time": "2021-11-01T09:31:08.700958",
     "status": "completed"
    },
    "tags": []
   },
   "outputs": [],
   "source": [
    "# from pycocotools.coco import COCO\n",
    "import skimage.io as io\n",
    "import matplotlib.pyplot as plt\n",
    "from pathlib import Path\n",
    "from PIL import Image\n",
    "\n",
    "import pandas as pd\n",
    "import numpy as np\n",
    "from tqdm.notebook import tqdm\n",
    "import json,itertools\n",
    "from sklearn.model_selection import GroupKFold"
   ]
  },
  {
   "cell_type": "code",
   "execution_count": 3,
   "id": "8765eb0c",
   "metadata": {
    "execution": {
     "iopub.execute_input": "2021-11-01T09:31:10.190516Z",
     "iopub.status.busy": "2021-11-01T09:31:10.189188Z",
     "iopub.status.idle": "2021-11-01T09:31:10.192094Z",
     "shell.execute_reply": "2021-11-01T09:31:10.191518Z",
     "shell.execute_reply.started": "2021-11-01T09:17:23.541057Z"
    },
    "papermill": {
     "duration": 0.023186,
     "end_time": "2021-11-01T09:31:10.192239",
     "exception": false,
     "start_time": "2021-11-01T09:31:10.169053",
     "status": "completed"
    },
    "tags": []
   },
   "outputs": [],
   "source": [
    "# config\n",
    "class CFG:\n",
    "    data_path = '../input/sartorius-cell-instance-segmentation/'\n",
    "    nfolds = 5"
   ]
  },
  {
   "cell_type": "markdown",
   "id": "0401fd04",
   "metadata": {
    "papermill": {
     "duration": 0.015034,
     "end_time": "2021-11-01T09:31:10.222593",
     "exception": false,
     "start_time": "2021-11-01T09:31:10.207559",
     "status": "completed"
    },
    "tags": []
   },
   "source": [
    "# Functions"
   ]
  },
  {
   "cell_type": "code",
   "execution_count": 4,
   "id": "494e71dc",
   "metadata": {
    "execution": {
     "iopub.execute_input": "2021-11-01T09:31:10.265950Z",
     "iopub.status.busy": "2021-11-01T09:31:10.265234Z",
     "iopub.status.idle": "2021-11-01T09:31:10.268050Z",
     "shell.execute_reply": "2021-11-01T09:31:10.267494Z",
     "shell.execute_reply.started": "2021-11-01T09:17:23.548771Z"
    },
    "papermill": {
     "duration": 0.030151,
     "end_time": "2021-11-01T09:31:10.268200",
     "exception": false,
     "start_time": "2021-11-01T09:31:10.238049",
     "status": "completed"
    },
    "tags": []
   },
   "outputs": [],
   "source": [
    "# From https://www.kaggle.com/stainsby/fast-tested-rle\n",
    "def rle_decode(mask_rle, shape):\n",
    "    '''\n",
    "    mask_rle: run-length as string formated (start length)\n",
    "    shape: (height,width) of array to return \n",
    "    Returns numpy array, 1 - mask, 0 - background\n",
    "\n",
    "    '''\n",
    "    s = mask_rle.split()\n",
    "    starts, lengths = [np.asarray(x, dtype=int) for x in (s[0:][::2], s[1:][::2])]\n",
    "    starts -= 1\n",
    "    ends = starts + lengths\n",
    "    img = np.zeros(shape[0]*shape[1], dtype=np.uint8)\n",
    "    for lo, hi in zip(starts, ends):\n",
    "        img[lo:hi] = 1\n",
    "    return img.reshape(shape)  # Needed to align to RLE direction\n",
    "\n",
    "# From https://newbedev.com/encode-numpy-array-using-uncompressed-rle-for-coco-dataset\n",
    "def binary_mask_to_rle(binary_mask):\n",
    "    rle = {'counts': [], 'size': list(binary_mask.shape)}\n",
    "    counts = rle.get('counts')\n",
    "    for i, (value, elements) in enumerate(itertools.groupby(binary_mask.ravel(order='F'))):\n",
    "        if i == 0 and value == 1:\n",
    "            counts.append(0)\n",
    "        counts.append(len(list(elements)))\n",
    "    return rle"
   ]
  },
  {
   "cell_type": "code",
   "execution_count": 5,
   "id": "0aab9be0",
   "metadata": {
    "execution": {
     "iopub.execute_input": "2021-11-01T09:31:10.309830Z",
     "iopub.status.busy": "2021-11-01T09:31:10.309104Z",
     "iopub.status.idle": "2021-11-01T09:31:10.311105Z",
     "shell.execute_reply": "2021-11-01T09:31:10.311599Z",
     "shell.execute_reply.started": "2021-11-01T09:17:23.564408Z"
    },
    "papermill": {
     "duration": 0.028171,
     "end_time": "2021-11-01T09:31:10.311787",
     "exception": false,
     "start_time": "2021-11-01T09:31:10.283616",
     "status": "completed"
    },
    "tags": []
   },
   "outputs": [],
   "source": [
    "def coco_structure(train_df):\n",
    "    cat_ids = {name:id+1 for id, name in enumerate(train_df.cell_type.unique())}    \n",
    "    cats =[{'name':name, 'id':id} for name,id in cat_ids.items()]\n",
    "    images = [{'id':id, 'width':row.width, 'height':row.height, 'file_name':f'train/{id}.png'} for id,row in train_df.groupby('id').agg('first').iterrows()]\n",
    "    annotations=[]\n",
    "    for idx, row in tqdm(train_df.iterrows()):\n",
    "        mk = rle_decode(row.annotation, (row.height, row.width))\n",
    "        ys, xs = np.where(mk)\n",
    "        x1, x2 = min(xs), max(xs)\n",
    "        y1, y2 = min(ys), max(ys)\n",
    "        enc =binary_mask_to_rle(mk)\n",
    "        seg = {\n",
    "            'segmentation':enc, \n",
    "            'bbox': [int(x1), int(y1), int(x2-x1+1), int(y2-y1+1)],\n",
    "            'area': int(np.sum(mk)),\n",
    "            'image_id':row.id, \n",
    "            'category_id':cat_ids[row.cell_type], \n",
    "            'iscrowd':0, \n",
    "            'id':idx\n",
    "        }\n",
    "        annotations.append(seg)\n",
    "    return {'categories':cats, 'images':images,'annotations':annotations}"
   ]
  },
  {
   "cell_type": "markdown",
   "id": "6206b98a",
   "metadata": {
    "papermill": {
     "duration": 0.014761,
     "end_time": "2021-11-01T09:31:10.341791",
     "exception": false,
     "start_time": "2021-11-01T09:31:10.327030",
     "status": "completed"
    },
    "tags": []
   },
   "source": [
    "# Data\n",
    "\n",
    "Split into folds, create annotations"
   ]
  },
  {
   "cell_type": "code",
   "execution_count": 6,
   "id": "bbe6281f",
   "metadata": {
    "execution": {
     "iopub.execute_input": "2021-11-01T09:31:10.380442Z",
     "iopub.status.busy": "2021-11-01T09:31:10.379782Z",
     "iopub.status.idle": "2021-11-01T09:31:11.082455Z",
     "shell.execute_reply": "2021-11-01T09:31:11.081881Z",
     "shell.execute_reply.started": "2021-11-01T09:29:59.923618Z"
    },
    "papermill": {
     "duration": 0.725112,
     "end_time": "2021-11-01T09:31:11.082623",
     "exception": false,
     "start_time": "2021-11-01T09:31:10.357511",
     "status": "completed"
    },
    "tags": []
   },
   "outputs": [],
   "source": [
    "train_df = pd.read_csv(CFG.data_path + 'train.csv')\n",
    "\n",
    "gkf = GroupKFold(n_splits = CFG.nfolds)\n",
    "\n",
    "train_df[\"fold\"] = -1\n",
    "y = train_df.width.values\n",
    "\n",
    "for f, (t_, v_) in enumerate(gkf.split(X=train_df, y=y, groups=train_df.id.values)):\n",
    "    train_df.loc[v_, \"fold\"] = f\n",
    "    \n",
    "fold_id = train_df.fold.copy()\n",
    "# train_df.drop('fold', axis = 1, inplace = True)"
   ]
  },
  {
   "cell_type": "code",
   "execution_count": 7,
   "id": "552cad0c",
   "metadata": {
    "execution": {
     "iopub.execute_input": "2021-11-01T09:31:11.120889Z",
     "iopub.status.busy": "2021-11-01T09:31:11.120221Z",
     "iopub.status.idle": "2021-11-01T09:31:11.989909Z",
     "shell.execute_reply": "2021-11-01T09:31:11.989251Z",
     "shell.execute_reply.started": "2021-11-01T09:30:28.597348Z"
    },
    "papermill": {
     "duration": 0.891995,
     "end_time": "2021-11-01T09:31:11.990053",
     "exception": false,
     "start_time": "2021-11-01T09:31:11.098058",
     "status": "completed"
    },
    "tags": []
   },
   "outputs": [],
   "source": [
    "train_df[['id', 'fold', 'annotation']].to_csv('gt_fold.csv', index = False)"
   ]
  },
  {
   "cell_type": "code",
   "execution_count": 8,
   "id": "2ae1bccf",
   "metadata": {
    "execution": {
     "iopub.execute_input": "2021-11-01T09:31:12.026110Z",
     "iopub.status.busy": "2021-11-01T09:31:12.025252Z",
     "iopub.status.idle": "2021-11-01T09:31:12.027936Z",
     "shell.execute_reply": "2021-11-01T09:31:12.028406Z",
     "shell.execute_reply.started": "2021-10-28T18:08:55.331199Z"
    },
    "papermill": {
     "duration": 0.02339,
     "end_time": "2021-11-01T09:31:12.028587",
     "exception": false,
     "start_time": "2021-11-01T09:31:12.005197",
     "status": "completed"
    },
    "tags": []
   },
   "outputs": [],
   "source": [
    "# all_ids = train_df.id.unique()\n",
    "# # for fold in range(CFG.nfolds):\n",
    "# for fold in range(4,6):    \n",
    "#     train_sample = train_df.loc[fold_id != fold]\n",
    "#     root = coco_structure(train_sample)\n",
    "\n",
    "#     with open('annotations_train_f'+str(fold)+'.json', 'w', encoding='utf-8') as f:\n",
    "#         json.dump(root, f, ensure_ascii=True, indent=4)\n",
    "        \n",
    "#     valid_sample = train_df.loc[fold_id == fold]\n",
    "\n",
    "#     print('fold ' + str(fold) + ': produced')"
   ]
  },
  {
   "cell_type": "code",
   "execution_count": 9,
   "id": "f22a7ca7",
   "metadata": {
    "execution": {
     "iopub.execute_input": "2021-11-01T09:31:12.062905Z",
     "iopub.status.busy": "2021-11-01T09:31:12.061932Z",
     "iopub.status.idle": "2021-11-01T09:31:12.064981Z",
     "shell.execute_reply": "2021-11-01T09:31:12.065460Z"
    },
    "papermill": {
     "duration": 0.021829,
     "end_time": "2021-11-01T09:31:12.065630",
     "exception": false,
     "start_time": "2021-11-01T09:31:12.043801",
     "status": "completed"
    },
    "tags": []
   },
   "outputs": [],
   "source": [
    "# for fold in range(4,6):   \n",
    "#     train_sample = train_df.loc[fold_id == fold]\n",
    "#     root = coco_structure(train_sample)\n",
    "\n",
    "#     with open('annotations_valid_f'+str(fold)+'.json', 'w', encoding='utf-8') as f:\n",
    "#         json.dump(root, f, ensure_ascii=True, indent=4)\n",
    "        \n",
    "#     valid_sample = train_df.loc[fold_id == fold]\n",
    "\n",
    "#     print('fold ' + str(fold) + ': produced')"
   ]
  },
  {
   "cell_type": "code",
   "execution_count": 10,
   "id": "95a7cd52",
   "metadata": {
    "execution": {
     "iopub.execute_input": "2021-11-01T09:31:12.100986Z",
     "iopub.status.busy": "2021-11-01T09:31:12.099883Z",
     "iopub.status.idle": "2021-11-01T09:31:12.102708Z",
     "shell.execute_reply": "2021-11-01T09:31:12.103247Z"
    },
    "papermill": {
     "duration": 0.022279,
     "end_time": "2021-11-01T09:31:12.103410",
     "exception": false,
     "start_time": "2021-11-01T09:31:12.081131",
     "status": "completed"
    },
    "tags": []
   },
   "outputs": [],
   "source": [
    "# root = coco_structure(train_df)\n",
    "\n",
    "# with open('annotations_train.json', 'w', encoding='utf-8') as f:\n",
    "#     json.dump(root, f, ensure_ascii=True, indent=4)\n",
    "        \n"
   ]
  }
 ],
 "metadata": {
  "kernelspec": {
   "display_name": "Python 3",
   "language": "python",
   "name": "python3"
  },
  "language_info": {
   "codemirror_mode": {
    "name": "ipython",
    "version": 3
   },
   "file_extension": ".py",
   "mimetype": "text/x-python",
   "name": "python",
   "nbconvert_exporter": "python",
   "pygments_lexer": "ipython3",
   "version": "3.7.10"
  },
  "papermill": {
   "default_parameters": {},
   "duration": 31.497065,
   "end_time": "2021-11-01T09:31:12.829285",
   "environment_variables": {},
   "exception": null,
   "input_path": "__notebook__.ipynb",
   "output_path": "__notebook__.ipynb",
   "parameters": {},
   "start_time": "2021-11-01T09:30:41.332220",
   "version": "2.3.3"
  }
 },
 "nbformat": 4,
 "nbformat_minor": 5
}
